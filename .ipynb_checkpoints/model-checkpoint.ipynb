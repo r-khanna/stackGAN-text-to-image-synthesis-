{
 "cells": [
  {
   "cell_type": "code",
   "execution_count": 1,
   "metadata": {},
   "outputs": [],
   "source": [
    "import torch \n",
    "import torch.nn as nn\n"
   ]
  },
  {
   "cell_type": "markdown",
   "metadata": {},
   "source": [
    "# Configurations"
   ]
  },
  {
   "cell_type": "code",
   "execution_count": 66,
   "metadata": {},
   "outputs": [],
   "source": [
    "dim_text_embedding = 1000\n",
    "dim_conditioning_var = 128\n",
    "dim_noise = 100\n",
    "channels_gen = 128\n",
    "channels_discr = 64\n",
    "upscale_factor = 2"
   ]
  },
  {
   "cell_type": "code",
   "execution_count": 94,
   "metadata": {},
   "outputs": [],
   "source": [
    "# upsacles image by factor of 2 and also changes number of channels in upscaled image\n",
    "\n",
    "def upscale(in_channels,out_channels):\n",
    "    return nn.Sequential(\n",
    "            nn.Upsample(scale_factor=upscale_factor, mode='nearest'),\n",
    "            nn.Conv2d(in_channels,out_channels,3,1,1,bias = False),\n",
    "            nn.BatchNorm2d(out_channels),\n",
    "            nn.ReLU(True))"
   ]
  },
  {
   "cell_type": "code",
   "execution_count": 95,
   "metadata": {},
   "outputs": [],
   "source": [
    "# convolutional residual block, keeps number of channels constant\n",
    "\n",
    "class ResBlock(nn.Module):\n",
    "    def __init__(self,channels):\n",
    "        super().__init__()\n",
    "        self.channels = channels\n",
    "        self.block = nn.Sequential(\n",
    "                        nn.Conv2d(channels,channels,3,1,1,bias = False),\n",
    "                        nn.BatchNorm2d(channels),\n",
    "                        nn.Relu(True),\n",
    "                        nn.Conv2d(channels,channels,3,1,1,bias = False),\n",
    "                        nn.BatchNorm2d(channels)\n",
    "                        )\n",
    "        self.ReLU = nn.ReLU(True)\n",
    "        \n",
    "    def forward(self,x):\n",
    "        residue = x\n",
    "        x = self.block(x)\n",
    "        x = x + residue\n",
    "        x = self.Relu(x)\n",
    "        return x"
   ]
  },
  {
   "cell_type": "code",
   "execution_count": 56,
   "metadata": {},
   "outputs": [],
   "source": [
    "class Conditional_augmentation(nn.Module):\n",
    "    def __init__(self):\n",
    "        super().__init__()\n",
    "        self.dim_fc_inp = dim_text_embedding\n",
    "        self.dim_fc_out = dim_conditioning_var\n",
    "        self.fc = nn.Linear(self.dim_fc_inp, self.dim_fc_out*2, bias= True)\n",
    "        self.relu = nn.ReLU()\n",
    "            \n",
    "    def get_mu_logvar(self,textEmbedding):\n",
    "        x = self.relu(self.fc(textEmbedding))\n",
    "        \n",
    "        mu = x[:,:conditioning_var_dim]\n",
    "        logvar = x[:,conditioning_var_dim:]\n",
    "        return mu,logvar\n",
    "        \n",
    "    \n",
    "    def get_conditioning_variable(self,mu,logvar):\n",
    "        epsilon = torch.randn(mu.size())\n",
    "        std = torch.exp(0.5*logvar)\n",
    "        \n",
    "        return mu + epsilon*std\n",
    "    \n",
    "    def forward(self,textEmbedding):\n",
    "        mu, logvar = self.get_mu_logvar(textEmbedding)\n",
    "        return self.get_conditioning_variable(mu, logvar)"
   ]
  },
  {
   "cell_type": "code",
   "execution_count": 61,
   "metadata": {},
   "outputs": [],
   "source": [
    "a = torch.randn(2,1000)"
   ]
  },
  {
   "cell_type": "code",
   "execution_count": 58,
   "metadata": {},
   "outputs": [],
   "source": [
    "ca = Conditional_augmentation()"
   ]
  },
  {
   "cell_type": "code",
   "execution_count": 64,
   "metadata": {},
   "outputs": [],
   "source": [
    "cond_vars = ca(a)"
   ]
  },
  {
   "cell_type": "code",
   "execution_count": 80,
   "metadata": {},
   "outputs": [
    {
     "data": {
      "text/plain": [
       "torch.Size([2, 128])"
      ]
     },
     "execution_count": 80,
     "metadata": {},
     "output_type": "execute_result"
    }
   ],
   "source": [
    "cond_vars.size()"
   ]
  },
  {
   "cell_type": "code",
   "execution_count": null,
   "metadata": {},
   "outputs": [],
   "source": []
  },
  {
   "cell_type": "code",
   "execution_count": 110,
   "metadata": {},
   "outputs": [],
   "source": [
    "class Discriminator_logit(nn.Module):\n",
    "    def __init__(self,dim_discr,dim_condVar,concat=False):\n",
    "        super().__init__()\n",
    "        self.dim_discr = dim_discr\n",
    "        self.dim_condVar = dim_condVar\n",
    "        self.concat = concat\n",
    "        if concat == True:\n",
    "            self.logits = nn.Sequential(\n",
    "                            nn.Conv2d(dim_discr*8 + dim_condVar,dim_discr*8,3,1,1, bias = False),\n",
    "                            nn.BatchNorm2d(dim_discr*8),\n",
    "                            nn.LeakyReLU(.2, True),\n",
    "                            nn.Conv2d(dim_discr*8, 1, kernel_size=4, stride=4),\n",
    "                            nn.Sigmoid()\n",
    "                        )\n",
    "        \n",
    "        else :\n",
    "            self.logits = nn.Sequential(\n",
    "                            nn.Conv2d(dim_discr*8, 1, kernel_size=4, stride=4),\n",
    "                            nn.Sigmoid()\n",
    "                        )\n",
    "        \n",
    "    def forward(self, hidden_vec, cond_aug=None):\n",
    "        if self.concat is True and cond_aug is not None:\n",
    "            cond_aug = cond_aug.view(-1, self.dim_condVar, 1, 1)\n",
    "            cond_aug = cond_aug.repeat(1, 1, 4, 4)\n",
    "            hidden_vec = torch.cat((hidden_vec,cond_aug),1)\n",
    "        \n",
    "        return self.logits(hidden_vec).view(-1)"
   ]
  },
  {
   "cell_type": "code",
   "execution_count": 96,
   "metadata": {},
   "outputs": [],
   "source": [
    "class Stage1_Generator(nn.Module):\n",
    "    def __init__(self):\n",
    "        super().__init__()\n",
    "        self.dim_noise = dim_noise\n",
    "        self.dim_cond_aug = dim_conditioning_var\n",
    "        self.channels_fc = channels_gen * 8\n",
    "        self.cond_aug_net = Conditional_augmentation()\n",
    "        \n",
    "        self.fc = nn.Sequential(\n",
    "                    nn.Linear(self.dim_noise + self.dim_cond_aug, self.channels_fc * 4 * 4, bias = False),\n",
    "                    nn.BatchNorm1d(self.channels_fc * 4 * 4),\n",
    "                    nn.ReLU(True)\n",
    "                    )\n",
    "        \n",
    "        self.upsample = nn.Sequential(\n",
    "                            upscale(self.channels_fc,self.channels_fc//2),\n",
    "                            upscale(self.channels_fc//2,self.channels_fc//4),\n",
    "                            upscale(self.channels_fc//4,self.channels_fc//8),\n",
    "                            upscale(self.channels_fc//8,self.channels_fc//16)\n",
    "                            )\n",
    "        \n",
    "        self.generated_image = nn.Sequential(\n",
    "                                nn.Conv2d(self.channels_fc//16,3,3,1,1,bias = False),\n",
    "                                nn.Tanh())\n",
    "        \n",
    "        \n",
    "    def forward(self,noise,text_embedding):\n",
    "        cond_aug = self.cond_aug_net(text_embedding)\n",
    "        x = torch.cat((noise,cond_aug),1)\n",
    "        \n",
    "        x = self.fc(x)\n",
    "        x = x.view(-1,self.channels_fc, 4, 4)\n",
    "        x = self.upsample(x)\n",
    "        \n",
    "        image = self.generated_image(x)\n",
    "        \n",
    "        return image\n",
    "        "
   ]
  },
  {
   "cell_type": "code",
   "execution_count": 97,
   "metadata": {},
   "outputs": [],
   "source": [
    "gen1 = Stage1_Generator()"
   ]
  },
  {
   "cell_type": "code",
   "execution_count": 98,
   "metadata": {},
   "outputs": [],
   "source": [
    "noise = torch.randn(2,dim_noise)"
   ]
  },
  {
   "cell_type": "code",
   "execution_count": 99,
   "metadata": {},
   "outputs": [],
   "source": [
    "im = gen1(noise,a)"
   ]
  },
  {
   "cell_type": "code",
   "execution_count": 102,
   "metadata": {},
   "outputs": [
    {
     "data": {
      "text/plain": [
       "torch.Size([2, 3, 64, 64])"
      ]
     },
     "execution_count": 102,
     "metadata": {},
     "output_type": "execute_result"
    }
   ],
   "source": [
    "im.size()"
   ]
  },
  {
   "cell_type": "code",
   "execution_count": null,
   "metadata": {},
   "outputs": [],
   "source": []
  },
  {
   "cell_type": "code",
   "execution_count": 125,
   "metadata": {},
   "outputs": [],
   "source": [
    "class Stage1_Discriminator(nn.Module):\n",
    "    def __init__(self):\n",
    "        super().__init__()\n",
    "        self.channels_initial = channels_initial_discr\n",
    "        \n",
    "        self.downsample = nn.Sequential(\n",
    "                            nn.Conv2d(3, self.channels_initial, kernel_size=4, stride=2, padding=1),\n",
    "                            nn.LeakyReLU(0.2,inplace=True),\n",
    "            \n",
    "                            nn.Conv2d(self.channels_initial , self.channels_initial*2, kernel_size=4, stride=2, padding=1),\n",
    "                            nn.BatchNorm2d(self.channels_initial*2),\n",
    "                            nn.LeakyReLU(0.2,inplace=True),\n",
    "            \n",
    "                            nn.Conv2d(self.channels_initial*2, self.channels_initial*4, kernel_size=4, stride=2, padding=1),\n",
    "                            nn.BatchNorm2d(self.channels_initial*4),\n",
    "                            nn.LeakyReLU(0.2,inplace=True),\n",
    "            \n",
    "                            nn.Conv2d(self.channels_initial*4, self.channels_initial*8, kernel_size=4, stride=2, padding=1),\n",
    "                            nn.BatchNorm2d(self.channels_initial*8),\n",
    "                            nn.LeakyReLU(0.2,inplace=True),\n",
    "        )\n",
    "        \n",
    "        self.cond_logit = Discriminator_logit(self.channels_initial,dim_conditioning_var,True)\n",
    "        self.uncond_logit = Discriminator_logit(self.channels_initial,dim_conditioning_var,False)\n",
    "        \n",
    "    def forward(self,img):\n",
    "        return self.downsample(img)"
   ]
  },
  {
   "cell_type": "code",
   "execution_count": 126,
   "metadata": {},
   "outputs": [],
   "source": [
    "disc1 = Stage1_Discriminator()"
   ]
  },
  {
   "cell_type": "code",
   "execution_count": 127,
   "metadata": {},
   "outputs": [],
   "source": [
    "scores = disc1(im)"
   ]
  },
  {
   "cell_type": "code",
   "execution_count": 130,
   "metadata": {},
   "outputs": [
    {
     "data": {
      "text/plain": [
       "torch.Size([2, 512, 4, 4])"
      ]
     },
     "execution_count": 130,
     "metadata": {},
     "output_type": "execute_result"
    }
   ],
   "source": [
    "scores.size()"
   ]
  },
  {
   "cell_type": "code",
   "execution_count": 131,
   "metadata": {},
   "outputs": [
    {
     "data": {
      "text/plain": [
       "tensor([0.4445, 0.6538], grad_fn=<ViewBackward>)"
      ]
     },
     "execution_count": 131,
     "metadata": {},
     "output_type": "execute_result"
    }
   ],
   "source": [
    "disc1.cond_logit(scores,cond_vars)"
   ]
  },
  {
   "cell_type": "code",
   "execution_count": null,
   "metadata": {},
   "outputs": [],
   "source": []
  },
  {
   "cell_type": "code",
   "execution_count": null,
   "metadata": {},
   "outputs": [],
   "source": []
  },
  {
   "cell_type": "code",
   "execution_count": 9,
   "metadata": {},
   "outputs": [],
   "source": [
    "class Stage2_Generator(nn.Module):\n",
    "    def __inti__(self):\n",
    "        super().__init__()\n",
    "        self.downsample_channels = generator_initial_channels\n",
    "        self.dim_embedding = conditioning_var_dim\n",
    "        self.cond_aug_net = Conditional_augmentation()\n",
    "        self.Stage1_G = Stage1_generator()\n",
    "        self.downsample = nn.Sequential(\n",
    "                            nn.Conv2d(3, self.downsample_channels, kernel_size=3, stride=1, padding=1),\n",
    "                            nn.ReLU(inplace=True),\n",
    "            \n",
    "                            nn.Conv2d(self.initial_channels, self.downsample_channels*2, kernel_size=4, stride=2, padding=1),\n",
    "                            nn.BatchNorm2d(self.initial_channels*2),\n",
    "                            nn.ReLU(inplace=True),\n",
    "            \n",
    "                            nn.Conv2d(self.initial_channels*2, self.initial_channels*4, kernel_size=4, stride=2, padding=1),\n",
    "                            nn.BatchNorm2d(self.initial_channels*2),\n",
    "                            nn.ReLU(inplace=True),\n",
    "                        )\n",
    "        self.hidden = nn.Sequential(\n",
    "                        nn.Conv2d(self.downsample_channels*4 + self.dim_embedding, self.downsample_channels*4, 3, 1, 1, bias=False),\n",
    "                        nn.BatchNorm2d(self.downsample_channels*4),\n",
    "                        nn.ReLU(True)\n",
    "                        )\n",
    "        self.residual = nn.Sequential(\n",
    "                            ResBlock(self.downsample_channels*4),\n",
    "                            ResBlock(self.downsample_channels*4),\n",
    "                            ResBlock(self.downsample_channels*4),\n",
    "                            ResBlock(self.downsample_channels*4)            \n",
    "                        )\n",
    "        self.upsample = nn.Sequential(\n",
    "                            upscale(self.downsample_channels*4,self.downsample_channels*2),\n",
    "                            upscale(self.downsample_channels*2,self.downsample_channels),\n",
    "                            upscale(self.downsample_channels,self.downsample_channels//2),\n",
    "                            upscale(self.downsample_channels//2,self.downsample_channels//4)\n",
    "                        )\n",
    "        self.image = nn.Sequential(\n",
    "                        nn.Conv2d(self.downsample_channels//4, 3, 3, 1, 1, False),\n",
    "                        nn.Tanh()\n",
    "                        )\n",
    "        \n",
    "    def forward(self,noise, text_embedding):\n",
    "        image = self.Stage1_G(noise, text_embedding)\n",
    "        image = image.detach()\n",
    "        enc_img = self.downsample(image)\n",
    "        \n",
    "        cond_aug = self.cond_aug_net(text_embedding)\n",
    "        cond_aug = cond_aug.view(-1, self.dim_embedding, 1, 1)\n",
    "        cond_aug = cond_aug.repeat(1, 1, 16, 16)\n",
    "        \n",
    "        x = torch.cat((enc_img, cond_aug),1)\n",
    "        x = self.hidden(x)\n",
    "        x = self.residual(x)\n",
    "        x = self.upsample(x) \n",
    "        enlarged_img = self.image(x)\n",
    "        \n",
    "        return enlarged_img"
   ]
  },
  {
   "cell_type": "code",
   "execution_count": null,
   "metadata": {},
   "outputs": [],
   "source": []
  },
  {
   "cell_type": "code",
   "execution_count": null,
   "metadata": {},
   "outputs": [],
   "source": []
  },
  {
   "cell_type": "code",
   "execution_count": null,
   "metadata": {},
   "outputs": [],
   "source": []
  },
  {
   "cell_type": "code",
   "execution_count": null,
   "metadata": {},
   "outputs": [],
   "source": []
  },
  {
   "cell_type": "code",
   "execution_count": 12,
   "metadata": {},
   "outputs": [],
   "source": [
    "class Stage2_Discriminator(nn.Module):\n",
    "    def __init__(self):\n",
    "        super().__init__()\n",
    "        self.initial_channels = discriminator_initial_channels\n",
    "        self.downsample = nn.Sequential(\n",
    "                            nn.Conv2d(3, self.initial_channels, 4, 2, 1, False),\n",
    "                            nn.LeakyReLU(0.2, inplace = True),\n",
    "            \n",
    "                            nn.Conv2d(self.initial_channels, self.initial_channels*2, 4, 2, 1, False),\n",
    "                            nn.BatchNorm2d(),\n",
    "                            nn.LeakyReLU(0.2, inplace = True),\n",
    "            \n",
    "                            nn.Conv2d(self.initial_channels*2, self.initial_channels*4, 4, 2, 1, False),\n",
    "                            nn.BatchNorm2d(),\n",
    "                            nn.LeakyReLU(0.2, inplace = True),\n",
    "            \n",
    "                            nn.Conv2d(self.initial_channels*4, self.initial_channels*8, 4, 2, 1, False),\n",
    "                            nn.BatchNorm2d(),\n",
    "                            nn.LeakyReLU(0.2, inplace = True),\n",
    "            \n",
    "                            nn.Conv2d(self.initial_channels*8, self.initial_channels*16, 4, 2, 1, False),\n",
    "                            nn.BatchNorm2d(),\n",
    "                            nn.LeakyReLU(0.2, inplace = True),\n",
    "            \n",
    "                            nn.Conv2d(self.initial_channels*16, self.initial_channels*32, 4, 2, 1, False),\n",
    "                            nn.BatchNorm2d(),\n",
    "                            nn.LeakyReLU(0.2, inplace = True),\n",
    "            \n",
    "                            nn.Conv2d(self.initial_channels*32, self.initial_channels*16, 3, 1, 1, False),\n",
    "                            nn.BatchNorm2d(),\n",
    "                            nn.LeakyReLU(0.2, inplace = True),\n",
    "            \n",
    "                            nn.Conv2d(self.initial_channels*16, self.initial_channels*8, 3, 1, 1, False),\n",
    "                            nn.BatchNorm2d(),\n",
    "                            nn.LeakyReLU(0.2, inplace = True)\n",
    "                            )\n",
    "        \n",
    "        self.cond_logit = Discriminator_logit(self.initial_channels,conditioning_var_dim,True)\n",
    "        self.cond_logit = Discriminator_logit(self.initial_channels,conditioning_var_dim,False)\n",
    "        \n",
    "    def forward(self,image):\n",
    "        return self.downsample(image)"
   ]
  },
  {
   "cell_type": "code",
   "execution_count": 28,
   "metadata": {},
   "outputs": [],
   "source": [
    "class axx(nn.Module):\n",
    "    def __init__(self):\n",
    "        super().__init__()\n",
    "        self.s = nn.Sequential(\n",
    "                    nn.Linear(4,2),\n",
    "                    )\n",
    "    \n",
    "    def forward(self,x):\n",
    "        return self.s(x)\n",
    "\n",
    "    \n",
    "    \n",
    "    \n",
    "    "
   ]
  },
  {
   "cell_type": "code",
   "execution_count": 29,
   "metadata": {},
   "outputs": [],
   "source": [
    "class b(nn.Module):\n",
    "    def __init__(self):\n",
    "        super().__init__()\n",
    "        self.bss = nn.Sequential(\n",
    "                    axx()\n",
    "                    )\n",
    "    \n",
    "    def forward(self,x):\n",
    "        return self.bss(x)\n"
   ]
  },
  {
   "cell_type": "code",
   "execution_count": 30,
   "metadata": {},
   "outputs": [],
   "source": [
    "inp = torch.tensor([1,2,3,4],dtype=torch.float)\n"
   ]
  },
  {
   "cell_type": "code",
   "execution_count": 31,
   "metadata": {},
   "outputs": [
    {
     "data": {
      "text/plain": [
       "tensor([ 0.4665, -1.4558], grad_fn=<AddBackward0>)"
      ]
     },
     "execution_count": 31,
     "metadata": {},
     "output_type": "execute_result"
    }
   ],
   "source": [
    "bf = b()\n",
    "bf(inp)"
   ]
  },
  {
   "cell_type": "code",
   "execution_count": 14,
   "metadata": {},
   "outputs": [
    {
     "data": {
      "text/plain": [
       "tensor([1.6487, 2.7183, 4.4817])"
      ]
     },
     "execution_count": 14,
     "metadata": {},
     "output_type": "execute_result"
    }
   ],
   "source": [
    "torch.exp(0.5*a)"
   ]
  },
  {
   "cell_type": "code",
   "execution_count": 15,
   "metadata": {},
   "outputs": [
    {
     "data": {
      "text/plain": [
       "tensor([0.5000, 2.0000, 4.5000])"
      ]
     },
     "execution_count": 15,
     "metadata": {},
     "output_type": "execute_result"
    }
   ],
   "source": [
    "b=torch.tensor([.5,1.0,1.5])\n",
    "a*b"
   ]
  },
  {
   "cell_type": "code",
   "execution_count": null,
   "metadata": {},
   "outputs": [],
   "source": []
  }
 ],
 "metadata": {
  "kernelspec": {
   "display_name": "Python 3",
   "language": "python",
   "name": "python3"
  },
  "language_info": {
   "codemirror_mode": {
    "name": "ipython",
    "version": 3
   },
   "file_extension": ".py",
   "mimetype": "text/x-python",
   "name": "python",
   "nbconvert_exporter": "python",
   "pygments_lexer": "ipython3",
   "version": "3.7.0"
  }
 },
 "nbformat": 4,
 "nbformat_minor": 4
}
