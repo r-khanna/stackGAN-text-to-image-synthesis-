{
 "cells": [
  {
   "cell_type": "code",
   "execution_count": 2,
   "metadata": {},
   "outputs": [],
   "source": [
    "import torch \n",
    "import torch.nn as nn\n"
   ]
  },
  {
   "cell_type": "markdown",
   "metadata": {},
   "source": [
    "# Configurations"
   ]
  },
  {
   "cell_type": "code",
   "execution_count": 3,
   "metadata": {},
   "outputs": [],
   "source": [
    "embedding_dim = 1000\n",
    "conditioning_var_dim = 128\n",
    "noise_dim = 100\n",
    "generator_initial_channels = 128\n",
    "discriminator_initial_channels = 64\n",
    "upscale_factor = 2"
   ]
  },
  {
   "cell_type": "code",
   "execution_count": 4,
   "metadata": {},
   "outputs": [],
   "source": [
    "def upsample_conv(in_channels, out_channels):\n",
    "    return nn.Conv2d(in_channels,out_channels,kernel_size=3,stride=1,padding=1,bias=False)\n",
    "\n",
    "def upscale(in_channels,out_channels):\n",
    "    return nn.Sequential(\n",
    "            nn.Upsample(scale_factor=upscale_factor, mode='nearest'),\n",
    "            upsample_conv(in_channels,out_channels),\n",
    "            nn.BatchNorm2d(out_channels),\n",
    "            nn.ReLU(True))\n",
    "\n"
   ]
  },
  {
   "cell_type": "code",
   "execution_count": 12,
   "metadata": {},
   "outputs": [],
   "source": [
    "class ResBlock(nn.Module):\n",
    "    def __init__(self,channels):\n",
    "        super().__init__()\n",
    "        self.channels = channels\n",
    "        self.block = nn.Sequential(\n",
    "                        nn.Conv2d(channels,channels,3,1,1,False),\n",
    "                        nn.BatchNorm2d(channels),\n",
    "                        nn.Relu(True),\n",
    "                        nn.Conv2d(channels,channels,3,1,1,False),\n",
    "                        nn.BatchNorm2d(channels)\n",
    "                        )\n",
    "        self.ReLU = nn.ReLU(True)\n",
    "        \n",
    "    def forward(self,x):\n",
    "        residue = x\n",
    "        x = self.block(x)\n",
    "        x = x + residue\n",
    "        x = self.Relu(x)\n",
    "        return x"
   ]
  },
  {
   "cell_type": "code",
   "execution_count": 5,
   "metadata": {},
   "outputs": [],
   "source": [
    "class Conditional_augmentation(nn.Module):\n",
    "    def __init__(self):\n",
    "        super().__init__()\n",
    "        self.fc_inp_dim = embedding_dim\n",
    "        self.fc_out_dim = conditioning_var_dim\n",
    "        self.fc = nn.Linear(self.fc_inp_dim, self.fc_out_dim, bias= True)\n",
    "        self.relu = nn.ReLU()\n",
    "            \n",
    "    def get_mu_logvar(self,textEmbedding):\n",
    "        x = self.relu(self.fc(textEmbedding))\n",
    "        \n",
    "        mu = x[:,:conditioning_var_dim]\n",
    "        logvar = x[:,conditioning_var_dim:]\n",
    "        \n",
    "        return mu,logvar\n",
    "        \n",
    "    \n",
    "    def get_conditioning_variable(self,mu,logvar):\n",
    "        epsilon = torch.randn(mu.size())\n",
    "        std = torch.exp(0.5*logvar)\n",
    "        \n",
    "        return mu + epsilon*std\n",
    "    \n",
    "    def forward(self,textEmbedding):\n",
    "        return get_conditioning_variable(get_mu_logvar(textEmbedding))"
   ]
  },
  {
   "cell_type": "code",
   "execution_count": 7,
   "metadata": {},
   "outputs": [
    {
     "ename": "SyntaxError",
     "evalue": "invalid syntax (<ipython-input-7-923ec4d111c6>, line 28)",
     "output_type": "error",
     "traceback": [
      "\u001b[1;36m  File \u001b[1;32m\"<ipython-input-7-923ec4d111c6>\"\u001b[1;36m, line \u001b[1;32m28\u001b[0m\n\u001b[1;33m    return output = self.logits(hidden_vec).view(-1)\u001b[0m\n\u001b[1;37m                  ^\u001b[0m\n\u001b[1;31mSyntaxError\u001b[0m\u001b[1;31m:\u001b[0m invalid syntax\n"
     ]
    }
   ],
   "source": [
    "class Discriminator_logit(nn.Module):\n",
    "    def __init__(self,dim_discr,dim_condAug,concat=False):\n",
    "        super().__init__()\n",
    "        self.dim_discr = dim_discr\n",
    "        self.dim_condAug = dim_condAug\n",
    "        self.concat = concat\n",
    "        if concat == True:\n",
    "            self.logits = nn.Sequential(\n",
    "                            nn.Conv2d(dim_discr*8 + dim_condAug,dim_discr*8),\n",
    "                            nn.BatchNorm2d(dim_discr*8),\n",
    "                            nn.LeakyReLUReLU(.2, True),\n",
    "                            nn.Conv2d(dim_discr*8, 1, kernel_size=4, stride=4),\n",
    "                            nn.Sigmoid()\n",
    "                        )\n",
    "        \n",
    "        else :\n",
    "            self.logits = nn.Sequential(\n",
    "                            nn.Conv2d(dim_discr*8, 1, kernel_size=4, stride=4),\n",
    "                            nn.Sigmoid()\n",
    "                        )\n",
    "        \n",
    "    def forward(self, hidden_vec, cond_aug=None):\n",
    "        if self.concat is True and cond_aug is not None:\n",
    "            cond_aug = cond_aug.view(-1, self.dim_condAug, 1, 1)\n",
    "            cond_aug = cond_aug.repeat(1, 1, 4, 4)\n",
    "            hidden_vec = torch.cat((hidden_vec,cond_aug),1)\n",
    "        \n",
    "        return output = self.logits(hidden_vec).view(-1)"
   ]
  },
  {
   "cell_type": "code",
   "execution_count": 9,
   "metadata": {},
   "outputs": [],
   "source": [
    "class Stage1_generator(nn.Module):\n",
    "    def __init__(self):\n",
    "        super().__init__()\n",
    "        self.noise_dim = noise_dim\n",
    "        self.cond_aug_dim = conditioning_var_dim\n",
    "        self.fc_channels = generator_initial_channels\n",
    "        self.cond_aug_net = Conditional_augmentation()\n",
    "        \n",
    "        self.fc = nn.Sequential(\n",
    "                    nn.Linear(self.noise_dim + self.cond_aug_dim, self.fc_channels * 4 * 4, bias = False),\n",
    "                    nn.BatchNorm1d(self.fc_channels * 4 * 4),\n",
    "                    nn.ReLU(True)\n",
    "                    )\n",
    "        \n",
    "        self.upsample = nn.Sequential(\n",
    "                            upscale(self.fc_channels,self.fc_channels//2),\n",
    "                            upscale(self.fc_channels//2,self.fc_channels//4),\n",
    "                            upscale(self.fc_channels//4,self.fc_channels//8),\n",
    "                            upscale(self.fc_channels//8,self.fc_channels//16)\n",
    "                            )\n",
    "        \n",
    "        self.generated_image = nn.Sequential(\n",
    "                                nn.Conv2d(self.fc_channels//16,3),\n",
    "                                nn.Tanh())\n",
    "        \n",
    "    def forward(self,noise,text_embedding):\n",
    "        cond_aug = self.cond_aug_net(text_embedding)\n",
    "        x = torch.cat((noise,cond_aug),1)\n",
    "        \n",
    "        x = x.view(-1,self.fc_channels, 4, 4)\n",
    "        x = self.fc(x)\n",
    "        x = self.upsample(x)\n",
    "        \n",
    "        image = self.generated_image(x)\n",
    "        \n",
    "        return image\n",
    "        "
   ]
  },
  {
   "cell_type": "code",
   "execution_count": null,
   "metadata": {},
   "outputs": [],
   "source": [
    "class Stage1_Discriminator(nn.Module):\n",
    "    def __init__(self):\n",
    "        super().__init__()\n",
    "        self.initial_channels = discriminator_initial_channels\n",
    "        \n",
    "        self.downsample = nn.Sequential(\n",
    "                            nn.Conv2d(3, self.initial_channels, kernel_size=4, stride=2, padding=1),\n",
    "                            nn.LeakyReLU(0.2,inplace=True),\n",
    "            \n",
    "                            nn.Conv2d(self.initial_channels, self.initial_channels*2, kernel_size=4, stride=2, padding=1),\n",
    "                            nn.BatchNorm2d(self.initial_channels*2),\n",
    "                            nn.LeakyReLU(0.2,inplace=True),\n",
    "            \n",
    "                            nn.Conv2d(self.initial_channels*2, self.initial_channels*4, kernel_size=4, stride=2, padding=1),\n",
    "                            nn.BatchNorm2d(self.initial_channels*2),\n",
    "                            nn.LeakyReLU(0.2,inplace=True),\n",
    "            \n",
    "                            nn.Conv2d(self.initial_channels*4, self.initial_channels*8, kernel_size=4, stride=2, padding=1),\n",
    "                            nn.BatchNorm2d(self.initial_channels*2),\n",
    "                            nn.LeakyReLU(0.2,inplace=True),\n",
    "        )\n",
    "        \n",
    "        \n",
    "        def forward(self,img):\n",
    "            return self.downsample(img)"
   ]
  },
  {
   "cell_type": "code",
   "execution_count": 11,
   "metadata": {},
   "outputs": [
    {
     "ename": "SyntaxError",
     "evalue": "unexpected EOF while parsing (<ipython-input-11-edf8a2a58059>, line 5)",
     "output_type": "error",
     "traceback": [
      "\u001b[1;36m  File \u001b[1;32m\"<ipython-input-11-edf8a2a58059>\"\u001b[1;36m, line \u001b[1;32m5\u001b[0m\n\u001b[1;33m    def forward():\u001b[0m\n\u001b[1;37m                  ^\u001b[0m\n\u001b[1;31mSyntaxError\u001b[0m\u001b[1;31m:\u001b[0m unexpected EOF while parsing\n"
     ]
    }
   ],
   "source": [
    "class Stage2_Generator(nn.Module):\n",
    "    def __inti__(self):\n",
    "        super().__init__()\n",
    "        self.downsample_channels = generator_initial_channels\n",
    "        self.dim_embedding = conditioning_var_dim\n",
    "        self.downsample = nn.Sequential(\n",
    "                            nn.Conv2d(3, self.downsample_channels, kernel_size=3, stride=1, padding=1),\n",
    "                            nn.ReLU(inplace=True),\n",
    "            \n",
    "                            nn.Conv2d(self.initial_channels, self.downsample_channels*2, kernel_size=4, stride=2, padding=1),\n",
    "                            nn.BatchNorm2d(self.initial_channels*2),\n",
    "                            nn.ReLU(inplace=True),\n",
    "            \n",
    "                            nn.Conv2d(self.initial_channels*2, self.initial_channels*4, kernel_size=4, stride=2, padding=1),\n",
    "                            nn.BatchNorm2d(self.initial_channels*2),\n",
    "                            nn.ReLU(inplace=True),\n",
    "                        )\n",
    "        self.hidden = nn.Sequential(\n",
    "                        nn.Conv2d(self.downsample_channels*4 + self.dim_embedding, self.downsample_channels*4, 3, 1, 1, bias=False),\n",
    "                        nn.BatchNorm2d(self.downsample_channels*4),\n",
    "                        nn.ReLU(True)\n",
    "                        )\n",
    "        self.residual = nn.Sequential(\n",
    "                            ResBlock(self.downsample_channels*4),\n",
    "                            ResBlock(self.downsample_channels*4),\n",
    "                            ResBlock(self.downsample_channels*4),\n",
    "                            ResBlock(self.downsample_channels*4)            \n",
    "                        )\n",
    "        \n",
    "    def forward(self,image,text_embedding):\n",
    "        embedding"
   ]
  },
  {
   "cell_type": "code",
   "execution_count": null,
   "metadata": {},
   "outputs": [],
   "source": []
  },
  {
   "cell_type": "code",
   "execution_count": 4,
   "metadata": {},
   "outputs": [
    {
     "data": {
      "text/plain": [
       "torch.Size([3])"
      ]
     },
     "execution_count": 4,
     "metadata": {},
     "output_type": "execute_result"
    }
   ],
   "source": [
    "a=torch.tensor([1,2,3])\n",
    "a.size()"
   ]
  },
  {
   "cell_type": "code",
   "execution_count": 5,
   "metadata": {},
   "outputs": [
    {
     "data": {
      "text/plain": [
       "tensor([0.5000, 1.0000, 1.5000])"
      ]
     },
     "execution_count": 5,
     "metadata": {},
     "output_type": "execute_result"
    }
   ],
   "source": [
    "0.5*a"
   ]
  },
  {
   "cell_type": "code",
   "execution_count": 14,
   "metadata": {},
   "outputs": [
    {
     "data": {
      "text/plain": [
       "tensor([1.6487, 2.7183, 4.4817])"
      ]
     },
     "execution_count": 14,
     "metadata": {},
     "output_type": "execute_result"
    }
   ],
   "source": [
    "torch.exp(0.5*a)"
   ]
  },
  {
   "cell_type": "code",
   "execution_count": 15,
   "metadata": {},
   "outputs": [
    {
     "data": {
      "text/plain": [
       "tensor([0.5000, 2.0000, 4.5000])"
      ]
     },
     "execution_count": 15,
     "metadata": {},
     "output_type": "execute_result"
    }
   ],
   "source": [
    "b=torch.tensor([.5,1.0,1.5])\n",
    "a*b"
   ]
  },
  {
   "cell_type": "code",
   "execution_count": null,
   "metadata": {},
   "outputs": [],
   "source": []
  }
 ],
 "metadata": {
  "kernelspec": {
   "display_name": "Python 3",
   "language": "python",
   "name": "python3"
  },
  "language_info": {
   "codemirror_mode": {
    "name": "ipython",
    "version": 3
   },
   "file_extension": ".py",
   "mimetype": "text/x-python",
   "name": "python",
   "nbconvert_exporter": "python",
   "pygments_lexer": "ipython3",
   "version": "3.7.0"
  }
 },
 "nbformat": 4,
 "nbformat_minor": 4
}
