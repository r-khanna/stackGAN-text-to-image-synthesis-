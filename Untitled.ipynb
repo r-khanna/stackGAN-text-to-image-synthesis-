{
 "cells": [
  {
   "cell_type": "code",
   "execution_count": 1,
   "metadata": {},
   "outputs": [],
   "source": [
    "import torch \n",
    "import torch.nn as nn\n"
   ]
  },
  {
   "cell_type": "markdown",
   "metadata": {},
   "source": [
    "# Configurations"
   ]
  },
  {
   "cell_type": "code",
   "execution_count": 22,
   "metadata": {},
   "outputs": [
    {
     "ename": "SyntaxError",
     "evalue": "invalid syntax (<ipython-input-22-843476c942b2>, line 3)",
     "output_type": "error",
     "traceback": [
      "\u001b[1;36m  File \u001b[1;32m\"<ipython-input-22-843476c942b2>\"\u001b[1;36m, line \u001b[1;32m3\u001b[0m\n\u001b[1;33m    noise_dim =\u001b[0m\n\u001b[1;37m                ^\u001b[0m\n\u001b[1;31mSyntaxError\u001b[0m\u001b[1;31m:\u001b[0m invalid syntax\n"
     ]
    }
   ],
   "source": [
    "embedding_dim = 1000\n",
    "conditioning_var_dim = 128\n",
    "noise_dim = \n",
    "generator_initial_channels = 128\n",
    "discriminator_initial_channels = 64\n",
    "upscale_factor = 2"
   ]
  },
  {
   "cell_type": "code",
   "execution_count": 16,
   "metadata": {},
   "outputs": [],
   "source": [
    "def upsample_conv(in_channels, out_channels):\n",
    "    return nn.Conv2d(in_channels,out_channels,kernel_size=3,stride=1,padding=1,bias=False)\n",
    "\n",
    "def upscale(in_channels,out_channels):\n",
    "    return nn.Sequential(\n",
    "            nn.Upsample(scale_factor=upscale_factor, mode='nearest'),\n",
    "            upsample_conv(in_channels,out_channels),\n",
    "            nn.BatchNorm2d(out_channels),\n",
    "            nn.ReLU(True))\n",
    "\n"
   ]
  },
  {
   "cell_type": "code",
   "execution_count": 17,
   "metadata": {},
   "outputs": [
    {
     "ename": "SyntaxError",
     "evalue": "invalid syntax (<ipython-input-17-010945086933>, line 12)",
     "output_type": "error",
     "traceback": [
      "\u001b[1;36m  File \u001b[1;32m\"<ipython-input-17-010945086933>\"\u001b[1;36m, line \u001b[1;32m12\u001b[0m\n\u001b[1;33m    mu = x[,:conditioning_var_dim]\u001b[0m\n\u001b[1;37m           ^\u001b[0m\n\u001b[1;31mSyntaxError\u001b[0m\u001b[1;31m:\u001b[0m invalid syntax\n"
     ]
    }
   ],
   "source": [
    "class Conditional_augmentation(nn.Module):\n",
    "    def __init__(self):\n",
    "        super().__init__()\n",
    "        self.fc_inp_dim = embedding_dim\n",
    "        self.fc_out_dim = conditioning_var_dim\n",
    "        self.fc = nn.Linear(self.fc_inp_dim, self.fc_out_dim, bias= True)\n",
    "        self.relu = nn.ReLU()\n",
    "            \n",
    "    def get_mu_logvar(self,textEmbedding):\n",
    "        x = self.relu(self.fc(textEmbedding))\n",
    "        \n",
    "        mu = x[,:conditioning_var_dim]\n",
    "        logvar = x[,conditioning_var_dim:]\n",
    "        \n",
    "        return mu,logvar\n",
    "        \n",
    "    \n",
    "    def get_conditioning_variable(self,mu,logvar):\n",
    "        epsilon = torch.randn(mu.size())\n",
    "        std = torch.exp(0.5*logvar)\n",
    "        \n",
    "        return mu + epsilon*std\n",
    "    \n",
    "    def forward(self,textEmbedding):\n",
    "        return get_conditioning_variable(get_mu_logvar(textEmbedding))"
   ]
  },
  {
   "cell_type": "code",
   "execution_count": null,
   "metadata": {},
   "outputs": [],
   "source": [
    "class Discriminator_logit(nn.Module):\n",
    "    def __init__(self):\n",
    "        super().__init__()\n",
    "        "
   ]
  },
  {
   "cell_type": "code",
   "execution_count": 21,
   "metadata": {},
   "outputs": [],
   "source": [
    "class Stage1_generator(nn.Module):\n",
    "    def __init__(self):\n",
    "        super().__init__()\n",
    "        self.noise_dim = noise_dim\n",
    "        self.cond_aug_dim = conditioning_var_dim\n",
    "        self.fc_channels = generator_initial_channels\n",
    "        self.cond_aug_net = Conditional_augmentation()\n",
    "        \n",
    "        self.fc = nn.Sequential(\n",
    "                    nn.Linear(self.noise_dim + self.cond_aug_dim, self.fc_channels * 4 * 4, bias = False),\n",
    "                    nn.BatchNorm1d(self.fc_channels * 4 * 4),\n",
    "                    nn.ReLU(True)\n",
    "                    )\n",
    "        \n",
    "        self.upsample = nn.Sequential(\n",
    "                            self.upsample1 = upscale(self.fc_channels,self.fc_channels//2),\n",
    "                            self.upsample2 = upscale(self.fc_channels//2,self.fc_channels//4),\n",
    "                            self.upsample3 = upscale(self.fc_channels//4,self.fc_channels//8),\n",
    "                            self.upsample4 = upscale(self.fc_channels//8,self.fc_channels//16)\n",
    "                            )\n",
    "        \n",
    "        self.generated_image = nn.Sequential(\n",
    "                                nn.Conv2d(self.fc_channels//16,3),\n",
    "                                nn.Tanh())\n",
    "        \n",
    "    def forward(self,noise,text_embedding):\n",
    "        cond_aug = self.cond_aug_net(text_embedding)\n",
    "        x = torch.cat((noise,cond_aug),1)\n",
    "        \n",
    "        x = x.view(-1,self.fc_channels, 4, 4)\n",
    "        x = self.fc(x)\n",
    "        x = self.upsample(x)\n",
    "        \n",
    "        image = self.generated_image(x)\n",
    "        \n",
    "        return image\n",
    "        "
   ]
  },
  {
   "cell_type": "code",
   "execution_count": null,
   "metadata": {},
   "outputs": [],
   "source": [
    "class Stage1_Discriminator(nn.Module):\n",
    "    def __init__(self):\n",
    "        super().__init__()\n",
    "        self.initial_channels = discriminator_initial_channels\n",
    "        \n",
    "        self.downsample = nn.Sequential(\n",
    "                            nn.Conv2d(3, self.initial_channels, kernel_size=4, stride=2, padding=1),\n",
    "                            nn.LeakyReLU(0.2,inplace=True),\n",
    "            \n",
    "                            nn.Conv2d(self.initial_channels, self.initial_channels*2, kernel_size=4, stride=2, padding=1),\n",
    "                            nn.BatchNorm2d(self.initial_channels*2),\n",
    "                            nn.LeakyReLU(0.2,inplace=True),\n",
    "            \n",
    "                            nn.Conv2d(self.initial_channels*2, self.initial_channels*4, kernel_size=4, stride=2, padding=1),\n",
    "                            nn.BatchNorm2d(self.initial_channels*2),\n",
    "                            nn.LeakyReLU(0.2,inplace=True),\n",
    "            \n",
    "                            nn.Conv2d(self.initial_channels*4, self.initial_channels*8, kernel_size=4, stride=2, padding=1),\n",
    "                            nn.BatchNorm2d(self.initial_channels*2),\n",
    "                            nn.LeakyReLU(0.2,inplace=True),\n",
    "        )\n",
    "        \n",
    "        \n",
    "        def forward(self,img):\n",
    "            return self.downsample(img)"
   ]
  },
  {
   "cell_type": "code",
   "execution_count": null,
   "metadata": {},
   "outputs": [],
   "source": []
  },
  {
   "cell_type": "code",
   "execution_count": null,
   "metadata": {},
   "outputs": [],
   "source": []
  },
  {
   "cell_type": "code",
   "execution_count": 4,
   "metadata": {},
   "outputs": [
    {
     "data": {
      "text/plain": [
       "torch.Size([3])"
      ]
     },
     "execution_count": 4,
     "metadata": {},
     "output_type": "execute_result"
    }
   ],
   "source": [
    "a=torch.tensor([1,2,3])\n",
    "a.size()"
   ]
  },
  {
   "cell_type": "code",
   "execution_count": 5,
   "metadata": {},
   "outputs": [
    {
     "data": {
      "text/plain": [
       "tensor([0.5000, 1.0000, 1.5000])"
      ]
     },
     "execution_count": 5,
     "metadata": {},
     "output_type": "execute_result"
    }
   ],
   "source": [
    "0.5*a"
   ]
  },
  {
   "cell_type": "code",
   "execution_count": 14,
   "metadata": {},
   "outputs": [
    {
     "data": {
      "text/plain": [
       "tensor([1.6487, 2.7183, 4.4817])"
      ]
     },
     "execution_count": 14,
     "metadata": {},
     "output_type": "execute_result"
    }
   ],
   "source": [
    "torch.exp(0.5*a)"
   ]
  },
  {
   "cell_type": "code",
   "execution_count": 15,
   "metadata": {},
   "outputs": [
    {
     "data": {
      "text/plain": [
       "tensor([0.5000, 2.0000, 4.5000])"
      ]
     },
     "execution_count": 15,
     "metadata": {},
     "output_type": "execute_result"
    }
   ],
   "source": [
    "b=torch.tensor([.5,1.0,1.5])\n",
    "a*b"
   ]
  },
  {
   "cell_type": "code",
   "execution_count": null,
   "metadata": {},
   "outputs": [],
   "source": []
  }
 ],
 "metadata": {
  "kernelspec": {
   "display_name": "Python 3",
   "language": "python",
   "name": "python3"
  },
  "language_info": {
   "codemirror_mode": {
    "name": "ipython",
    "version": 3
   },
   "file_extension": ".py",
   "mimetype": "text/x-python",
   "name": "python",
   "nbconvert_exporter": "python",
   "pygments_lexer": "ipython3",
   "version": "3.7.0"
  }
 },
 "nbformat": 4,
 "nbformat_minor": 4
}
